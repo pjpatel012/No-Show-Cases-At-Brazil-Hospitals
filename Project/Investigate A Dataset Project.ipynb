{
 "cells": [
  {
   "cell_type": "markdown",
   "metadata": {},
   "source": [
    "## **Project: Investigate No Show Medical Appointment Cases in Brazil** ##"
   ]
  },
  {
   "cell_type": "markdown",
   "metadata": {},
   "source": [
    "### Table of Contents ###\n",
    "<ul>\n",
    "<li><a href=\"#Business Problem\">Business Problem</a></li>\n",
    "<li><a href=\"#Data Overview\">Data Overview</a></li>\n",
    "<li><a href=\"#wrangling\">Data Wrangling</a></li>\n",
    "<li><a href=\"#EDA\">Exploratory Data Analysis</a></li>\n",
    "<li><a href=\"#Conclusion\">Conclusions</a></li>\n",
    "</ul>"
   ]
  },
  {
   "cell_type": "markdown",
   "metadata": {},
   "source": [
    "<a id='Business Problem'></a>\n",
    "### Business Problem ###\n",
    "\n",
    "Missing medical appointments can be disruptive for the healthcare provider, scheduled patient, potential patients in need of medical attention, and doctors.\n",
    "\n",
    "The purpose of this report will be to analyze Brazil's patient attendance rate and determine what features may play a key role in predicting if a patient will show up to a scheduled appointment."
   ]
  },
  {
   "cell_type": "markdown",
   "metadata": {},
   "source": [
    "<a id='Data Overview'></a>\n",
    "### Data Overview ###\n",
    "\n",
    "The following dataset is comprised of information from 100,000 medical appointments in Brazil across 82 unique neighborhood hospitals. Patient characteristics including: Gender, Age, living information, certain medical conditions and disabilities are included in the dataset.\n",
    "\n",
    "Note: Original datasource on Kaggle"
   ]
  },
  {
   "cell_type": "markdown",
   "metadata": {},
   "source": [
    "### Data Wrangling ###"
   ]
  },
  {
   "cell_type": "markdown",
   "metadata": {},
   "source": [
    "Loading the first row of the dataset, we can inspect and determine what needs to be cleaned. First, the Schedule and Appointment Day columns need to be converted to date time. By doing this, we can determine if there's a correlation between the amount of days a patient waits for their appointment versus if that patient will miss their appointment, the idea being a patient might feel it is no longer necessary to go to an appointment after certain amount of days have passed.\n",
    "\n",
    "Inspecting each column, we see there are no null values and the value counts for each column are appropriate to that column. There is one instance of an unrealistic value of a patients 'Age' which is corrected."
   ]
  },
  {
   "cell_type": "code",
   "execution_count": 1,
   "metadata": {},
   "outputs": [],
   "source": [
    "# Import Packages for Data Wrangling And Visualizations\n",
    "import pandas as pd\n",
    "import numpy as np\n",
    "import matplotlib\n",
    "import matplotlib.pyplot as plt\n",
    "%matplotlib inline  \n",
    "import seaborn as sns"
   ]
  },
  {
   "cell_type": "code",
   "execution_count": 2,
   "metadata": {
    "scrolled": true
   },
   "outputs": [
    {
     "data": {
      "text/html": [
       "<div>\n",
       "<style scoped>\n",
       "    .dataframe tbody tr th:only-of-type {\n",
       "        vertical-align: middle;\n",
       "    }\n",
       "\n",
       "    .dataframe tbody tr th {\n",
       "        vertical-align: top;\n",
       "    }\n",
       "\n",
       "    .dataframe thead th {\n",
       "        text-align: right;\n",
       "    }\n",
       "</style>\n",
       "<table border=\"1\" class=\"dataframe\">\n",
       "  <thead>\n",
       "    <tr style=\"text-align: right;\">\n",
       "      <th></th>\n",
       "      <th>PatientId</th>\n",
       "      <th>AppointmentID</th>\n",
       "      <th>Gender</th>\n",
       "      <th>ScheduledDay</th>\n",
       "      <th>AppointmentDay</th>\n",
       "      <th>Age</th>\n",
       "      <th>Neighbourhood</th>\n",
       "      <th>Scholarship</th>\n",
       "      <th>Hipertension</th>\n",
       "      <th>Diabetes</th>\n",
       "      <th>Alcoholism</th>\n",
       "      <th>Handcap</th>\n",
       "      <th>SMS_received</th>\n",
       "      <th>No-show</th>\n",
       "    </tr>\n",
       "  </thead>\n",
       "  <tbody>\n",
       "    <tr>\n",
       "      <th>0</th>\n",
       "      <td>2.987250e+13</td>\n",
       "      <td>5642903</td>\n",
       "      <td>F</td>\n",
       "      <td>2016-04-29T18:38:08Z</td>\n",
       "      <td>2016-04-29T00:00:00Z</td>\n",
       "      <td>62</td>\n",
       "      <td>JARDIM DA PENHA</td>\n",
       "      <td>0</td>\n",
       "      <td>1</td>\n",
       "      <td>0</td>\n",
       "      <td>0</td>\n",
       "      <td>0</td>\n",
       "      <td>0</td>\n",
       "      <td>No</td>\n",
       "    </tr>\n",
       "    <tr>\n",
       "      <th>1</th>\n",
       "      <td>5.589978e+14</td>\n",
       "      <td>5642503</td>\n",
       "      <td>M</td>\n",
       "      <td>2016-04-29T16:08:27Z</td>\n",
       "      <td>2016-04-29T00:00:00Z</td>\n",
       "      <td>56</td>\n",
       "      <td>JARDIM DA PENHA</td>\n",
       "      <td>0</td>\n",
       "      <td>0</td>\n",
       "      <td>0</td>\n",
       "      <td>0</td>\n",
       "      <td>0</td>\n",
       "      <td>0</td>\n",
       "      <td>No</td>\n",
       "    </tr>\n",
       "    <tr>\n",
       "      <th>2</th>\n",
       "      <td>4.262962e+12</td>\n",
       "      <td>5642549</td>\n",
       "      <td>F</td>\n",
       "      <td>2016-04-29T16:19:04Z</td>\n",
       "      <td>2016-04-29T00:00:00Z</td>\n",
       "      <td>62</td>\n",
       "      <td>MATA DA PRAIA</td>\n",
       "      <td>0</td>\n",
       "      <td>0</td>\n",
       "      <td>0</td>\n",
       "      <td>0</td>\n",
       "      <td>0</td>\n",
       "      <td>0</td>\n",
       "      <td>No</td>\n",
       "    </tr>\n",
       "    <tr>\n",
       "      <th>3</th>\n",
       "      <td>8.679512e+11</td>\n",
       "      <td>5642828</td>\n",
       "      <td>F</td>\n",
       "      <td>2016-04-29T17:29:31Z</td>\n",
       "      <td>2016-04-29T00:00:00Z</td>\n",
       "      <td>8</td>\n",
       "      <td>PONTAL DE CAMBURI</td>\n",
       "      <td>0</td>\n",
       "      <td>0</td>\n",
       "      <td>0</td>\n",
       "      <td>0</td>\n",
       "      <td>0</td>\n",
       "      <td>0</td>\n",
       "      <td>No</td>\n",
       "    </tr>\n",
       "    <tr>\n",
       "      <th>4</th>\n",
       "      <td>8.841186e+12</td>\n",
       "      <td>5642494</td>\n",
       "      <td>F</td>\n",
       "      <td>2016-04-29T16:07:23Z</td>\n",
       "      <td>2016-04-29T00:00:00Z</td>\n",
       "      <td>56</td>\n",
       "      <td>JARDIM DA PENHA</td>\n",
       "      <td>0</td>\n",
       "      <td>1</td>\n",
       "      <td>1</td>\n",
       "      <td>0</td>\n",
       "      <td>0</td>\n",
       "      <td>0</td>\n",
       "      <td>No</td>\n",
       "    </tr>\n",
       "  </tbody>\n",
       "</table>\n",
       "</div>"
      ],
      "text/plain": [
       "      PatientId  AppointmentID Gender          ScheduledDay  \\\n",
       "0  2.987250e+13        5642903      F  2016-04-29T18:38:08Z   \n",
       "1  5.589978e+14        5642503      M  2016-04-29T16:08:27Z   \n",
       "2  4.262962e+12        5642549      F  2016-04-29T16:19:04Z   \n",
       "3  8.679512e+11        5642828      F  2016-04-29T17:29:31Z   \n",
       "4  8.841186e+12        5642494      F  2016-04-29T16:07:23Z   \n",
       "\n",
       "         AppointmentDay  Age      Neighbourhood  Scholarship  Hipertension  \\\n",
       "0  2016-04-29T00:00:00Z   62    JARDIM DA PENHA            0             1   \n",
       "1  2016-04-29T00:00:00Z   56    JARDIM DA PENHA            0             0   \n",
       "2  2016-04-29T00:00:00Z   62      MATA DA PRAIA            0             0   \n",
       "3  2016-04-29T00:00:00Z    8  PONTAL DE CAMBURI            0             0   \n",
       "4  2016-04-29T00:00:00Z   56    JARDIM DA PENHA            0             1   \n",
       "\n",
       "   Diabetes  Alcoholism  Handcap  SMS_received No-show  \n",
       "0         0           0        0             0      No  \n",
       "1         0           0        0             0      No  \n",
       "2         0           0        0             0      No  \n",
       "3         0           0        0             0      No  \n",
       "4         1           0        0             0      No  "
      ]
     },
     "execution_count": 2,
     "metadata": {},
     "output_type": "execute_result"
    }
   ],
   "source": [
    "# Load CSV Data\n",
    "path = 'noshowappointments-kagglev2-may-2016.csv'\n",
    "df = pd.read_csv(path)\n",
    "df.head()"
   ]
  },
  {
   "cell_type": "markdown",
   "metadata": {},
   "source": [
    "Using the statistical summary of the dataframe, we can determine which features should be analyzed. A mean value of 0.5 inidicates the feature has the same number of boolean values i.e. number of 0's and 1's. This allows for an 'apples to apples' comparison of between the boolean values of one feature to another feature, and allows us to confidently make 2 conclusions rather than just 1.\n",
    "\n",
    "For example, 'SMS received' has the highest mean value of 0.32 which indicates 32% of patients DID receive an SMS. When comparing another feature to 'SMS_received', there is enough data to confidently make a conclusion about patients who received an SMS and those who did not. The mean value for 'Handcap' is 0.022 (2.2%). An analysis of the handicap feature would only allow us to make a statistically confident conclusion about patients that ARE NOT handicapped. "
   ]
  },
  {
   "cell_type": "code",
   "execution_count": 3,
   "metadata": {
    "scrolled": false
   },
   "outputs": [
    {
     "name": "stdout",
     "output_type": "stream",
     "text": [
      "<class 'pandas.core.frame.DataFrame'>\n",
      "RangeIndex: 110527 entries, 0 to 110526\n",
      "Data columns (total 14 columns):\n",
      "PatientId         110527 non-null float64\n",
      "AppointmentID     110527 non-null int64\n",
      "Gender            110527 non-null object\n",
      "ScheduledDay      110527 non-null object\n",
      "AppointmentDay    110527 non-null object\n",
      "Age               110527 non-null int64\n",
      "Neighbourhood     110527 non-null object\n",
      "Scholarship       110527 non-null int64\n",
      "Hipertension      110527 non-null int64\n",
      "Diabetes          110527 non-null int64\n",
      "Alcoholism        110527 non-null int64\n",
      "Handcap           110527 non-null int64\n",
      "SMS_received      110527 non-null int64\n",
      "No-show           110527 non-null object\n",
      "dtypes: float64(1), int64(8), object(5)\n",
      "memory usage: 11.8+ MB\n"
     ]
    },
    {
     "data": {
      "text/html": [
       "<div>\n",
       "<style scoped>\n",
       "    .dataframe tbody tr th:only-of-type {\n",
       "        vertical-align: middle;\n",
       "    }\n",
       "\n",
       "    .dataframe tbody tr th {\n",
       "        vertical-align: top;\n",
       "    }\n",
       "\n",
       "    .dataframe thead th {\n",
       "        text-align: right;\n",
       "    }\n",
       "</style>\n",
       "<table border=\"1\" class=\"dataframe\">\n",
       "  <thead>\n",
       "    <tr style=\"text-align: right;\">\n",
       "      <th></th>\n",
       "      <th>PatientId</th>\n",
       "      <th>AppointmentID</th>\n",
       "      <th>Age</th>\n",
       "      <th>Scholarship</th>\n",
       "      <th>Hipertension</th>\n",
       "      <th>Diabetes</th>\n",
       "      <th>Alcoholism</th>\n",
       "      <th>Handcap</th>\n",
       "      <th>SMS_received</th>\n",
       "    </tr>\n",
       "  </thead>\n",
       "  <tbody>\n",
       "    <tr>\n",
       "      <th>count</th>\n",
       "      <td>1.105270e+05</td>\n",
       "      <td>1.105270e+05</td>\n",
       "      <td>110527.000000</td>\n",
       "      <td>110527.000000</td>\n",
       "      <td>110527.000000</td>\n",
       "      <td>110527.000000</td>\n",
       "      <td>110527.000000</td>\n",
       "      <td>110527.000000</td>\n",
       "      <td>110527.000000</td>\n",
       "    </tr>\n",
       "    <tr>\n",
       "      <th>mean</th>\n",
       "      <td>1.474963e+14</td>\n",
       "      <td>5.675305e+06</td>\n",
       "      <td>37.088874</td>\n",
       "      <td>0.098266</td>\n",
       "      <td>0.197246</td>\n",
       "      <td>0.071865</td>\n",
       "      <td>0.030400</td>\n",
       "      <td>0.022248</td>\n",
       "      <td>0.321026</td>\n",
       "    </tr>\n",
       "    <tr>\n",
       "      <th>std</th>\n",
       "      <td>2.560949e+14</td>\n",
       "      <td>7.129575e+04</td>\n",
       "      <td>23.110205</td>\n",
       "      <td>0.297675</td>\n",
       "      <td>0.397921</td>\n",
       "      <td>0.258265</td>\n",
       "      <td>0.171686</td>\n",
       "      <td>0.161543</td>\n",
       "      <td>0.466873</td>\n",
       "    </tr>\n",
       "    <tr>\n",
       "      <th>min</th>\n",
       "      <td>3.921784e+04</td>\n",
       "      <td>5.030230e+06</td>\n",
       "      <td>-1.000000</td>\n",
       "      <td>0.000000</td>\n",
       "      <td>0.000000</td>\n",
       "      <td>0.000000</td>\n",
       "      <td>0.000000</td>\n",
       "      <td>0.000000</td>\n",
       "      <td>0.000000</td>\n",
       "    </tr>\n",
       "    <tr>\n",
       "      <th>25%</th>\n",
       "      <td>4.172614e+12</td>\n",
       "      <td>5.640286e+06</td>\n",
       "      <td>18.000000</td>\n",
       "      <td>0.000000</td>\n",
       "      <td>0.000000</td>\n",
       "      <td>0.000000</td>\n",
       "      <td>0.000000</td>\n",
       "      <td>0.000000</td>\n",
       "      <td>0.000000</td>\n",
       "    </tr>\n",
       "    <tr>\n",
       "      <th>50%</th>\n",
       "      <td>3.173184e+13</td>\n",
       "      <td>5.680573e+06</td>\n",
       "      <td>37.000000</td>\n",
       "      <td>0.000000</td>\n",
       "      <td>0.000000</td>\n",
       "      <td>0.000000</td>\n",
       "      <td>0.000000</td>\n",
       "      <td>0.000000</td>\n",
       "      <td>0.000000</td>\n",
       "    </tr>\n",
       "    <tr>\n",
       "      <th>75%</th>\n",
       "      <td>9.439172e+13</td>\n",
       "      <td>5.725524e+06</td>\n",
       "      <td>55.000000</td>\n",
       "      <td>0.000000</td>\n",
       "      <td>0.000000</td>\n",
       "      <td>0.000000</td>\n",
       "      <td>0.000000</td>\n",
       "      <td>0.000000</td>\n",
       "      <td>1.000000</td>\n",
       "    </tr>\n",
       "    <tr>\n",
       "      <th>max</th>\n",
       "      <td>9.999816e+14</td>\n",
       "      <td>5.790484e+06</td>\n",
       "      <td>115.000000</td>\n",
       "      <td>1.000000</td>\n",
       "      <td>1.000000</td>\n",
       "      <td>1.000000</td>\n",
       "      <td>1.000000</td>\n",
       "      <td>4.000000</td>\n",
       "      <td>1.000000</td>\n",
       "    </tr>\n",
       "  </tbody>\n",
       "</table>\n",
       "</div>"
      ],
      "text/plain": [
       "          PatientId  AppointmentID            Age    Scholarship  \\\n",
       "count  1.105270e+05   1.105270e+05  110527.000000  110527.000000   \n",
       "mean   1.474963e+14   5.675305e+06      37.088874       0.098266   \n",
       "std    2.560949e+14   7.129575e+04      23.110205       0.297675   \n",
       "min    3.921784e+04   5.030230e+06      -1.000000       0.000000   \n",
       "25%    4.172614e+12   5.640286e+06      18.000000       0.000000   \n",
       "50%    3.173184e+13   5.680573e+06      37.000000       0.000000   \n",
       "75%    9.439172e+13   5.725524e+06      55.000000       0.000000   \n",
       "max    9.999816e+14   5.790484e+06     115.000000       1.000000   \n",
       "\n",
       "        Hipertension       Diabetes     Alcoholism        Handcap  \\\n",
       "count  110527.000000  110527.000000  110527.000000  110527.000000   \n",
       "mean        0.197246       0.071865       0.030400       0.022248   \n",
       "std         0.397921       0.258265       0.171686       0.161543   \n",
       "min         0.000000       0.000000       0.000000       0.000000   \n",
       "25%         0.000000       0.000000       0.000000       0.000000   \n",
       "50%         0.000000       0.000000       0.000000       0.000000   \n",
       "75%         0.000000       0.000000       0.000000       0.000000   \n",
       "max         1.000000       1.000000       1.000000       4.000000   \n",
       "\n",
       "        SMS_received  \n",
       "count  110527.000000  \n",
       "mean        0.321026  \n",
       "std         0.466873  \n",
       "min         0.000000  \n",
       "25%         0.000000  \n",
       "50%         0.000000  \n",
       "75%         1.000000  \n",
       "max         1.000000  "
      ]
     },
     "execution_count": 3,
     "metadata": {},
     "output_type": "execute_result"
    }
   ],
   "source": [
    "# View Data Info to Determine Top Metrics to Analyze\n",
    "df.info()\n",
    "df.describe()"
   ]
  },
  {
   "cell_type": "code",
   "execution_count": 4,
   "metadata": {},
   "outputs": [],
   "source": [
    "# Convert 'ScheduleDay' and 'AppointmentDay' columns to DateTime\n",
    "df['ScheduledDay'] = pd.to_datetime(df['ScheduledDay'])\n",
    "df['AppointmentDay'] = pd.to_datetime(df['AppointmentDay'])"
   ]
  },
  {
   "cell_type": "code",
   "execution_count": 5,
   "metadata": {},
   "outputs": [],
   "source": [
    "# Create New Column 'WaitDays' Calculating Time Between Scheduled Day and Appointment Day\n",
    "df['WaitDays'] = df['AppointmentDay']- df['ScheduledDay']\n",
    "df['WaitDays'] = df['WaitDays'].dt.days"
   ]
  },
  {
   "cell_type": "code",
   "execution_count": 7,
   "metadata": {},
   "outputs": [
    {
     "data": {
      "text/plain": [
       "(110526, 15)"
      ]
     },
     "execution_count": 7,
     "metadata": {},
     "output_type": "execute_result"
    }
   ],
   "source": [
    "# Same Day Appointments Have Negative Wait Days. Convert These To 0\n",
    "df['WaitDays'][df['WaitDays'] < 0]=0\n",
    "df = df.query('WaitDays >= 0')\n",
    "\n",
    "# Filter Out Any Rows with Negative Age\n",
    "df = df.query('Age >= 0')\n",
    "df.shape"
   ]
  },
  {
   "cell_type": "code",
   "execution_count": 8,
   "metadata": {},
   "outputs": [],
   "source": [
    "# For Analysis Purposes, Boolean Values of 'No' Are Assigned A '0' Value, And 'Yes' A '1' Value.\n",
    "df = df.rename(columns={\"No-show\":\"NoShow\"})\n",
    "df['NoShow'] = df['NoShow'].replace({\"No\": '0',\"Yes\": '1'})"
   ]
  },
  {
   "cell_type": "markdown",
   "metadata": {},
   "source": [
    "<a id='EDA'></a>\n",
    "### Exploratory Data Analysis ###"
   ]
  },
  {
   "cell_type": "markdown",
   "metadata": {},
   "source": [
    "#### Can no show cases be predicted by a patients age? ####\n",
    "A function using groupby/value_counts and merge to create a new DataFrame of 2 comparable features was created.\n",
    "\n",
    "Below is a relationship analysis between Age and No Shows. Similar results for all age groups."
   ]
  },
  {
   "cell_type": "code",
   "execution_count": 9,
   "metadata": {},
   "outputs": [],
   "source": [
    "# Function That Merges 2 New DataFrames Based On A 2 Defining Input Features\n",
    "def merge(feature1,feature2):\n",
    "    x = df.groupby(feature1)[feature2].value_counts().to_frame(name='Count').reset_index()\n",
    "    \n",
    "    #Create DataFrame of Patients That Showed To Their Appointments\n",
    "    feature_no = x[x[feature2] =='0'].reset_index(drop=True)\n",
    "    feature_no = feature_no.rename(columns={'Count':'No Count'}).drop([feature2], axis=1)\n",
    "\n",
    "    # Create DataFrame of Patients That Missed Their Appointments\n",
    "    feature_yes = x[x[feature2] =='1'].reset_index(drop=True)\n",
    "    feature_yes = feature_yes.rename(columns={'Count':'Yes Count'}).drop([feature2], axis=1)\n",
    "\n",
    "    # Merge Previous 2 DataFrames\n",
    "    feature_merge = pd.merge(feature_no, feature_yes, on=feature1)\n",
    "\n",
    "    # Create New Column Representing Proportion of Missed Appointments By Neighborhood\n",
    "    feature_merge['Proportion'] = feature_merge['Yes Count']/(feature_merge['No Count'] + feature_merge['Yes Count'])\n",
    "    \n",
    "    return pd.DataFrame(feature_merge)"
   ]
  },
  {
   "cell_type": "code",
   "execution_count": 10,
   "metadata": {},
   "outputs": [
    {
     "data": {
      "text/html": [
       "<div>\n",
       "<style scoped>\n",
       "    .dataframe tbody tr th:only-of-type {\n",
       "        vertical-align: middle;\n",
       "    }\n",
       "\n",
       "    .dataframe tbody tr th {\n",
       "        vertical-align: top;\n",
       "    }\n",
       "\n",
       "    .dataframe thead th {\n",
       "        text-align: right;\n",
       "    }\n",
       "</style>\n",
       "<table border=\"1\" class=\"dataframe\">\n",
       "  <thead>\n",
       "    <tr style=\"text-align: right;\">\n",
       "      <th></th>\n",
       "      <th>Bin</th>\n",
       "      <th>Yes Count</th>\n",
       "      <th>No Count</th>\n",
       "      <th>No Show Proportion</th>\n",
       "      <th>Show Proportion</th>\n",
       "    </tr>\n",
       "  </thead>\n",
       "  <tbody>\n",
       "    <tr>\n",
       "      <th>0</th>\n",
       "      <td>(-1, 25]</td>\n",
       "      <td>8818</td>\n",
       "      <td>29781</td>\n",
       "      <td>0.228452</td>\n",
       "      <td>0.771548</td>\n",
       "    </tr>\n",
       "    <tr>\n",
       "      <th>1</th>\n",
       "      <td>(25, 50]</td>\n",
       "      <td>7774</td>\n",
       "      <td>28730</td>\n",
       "      <td>0.212963</td>\n",
       "      <td>0.787037</td>\n",
       "    </tr>\n",
       "    <tr>\n",
       "      <th>2</th>\n",
       "      <td>(50, 75]</td>\n",
       "      <td>4857</td>\n",
       "      <td>25174</td>\n",
       "      <td>0.161733</td>\n",
       "      <td>0.838267</td>\n",
       "    </tr>\n",
       "    <tr>\n",
       "      <th>3</th>\n",
       "      <td>(75, 100]</td>\n",
       "      <td>867</td>\n",
       "      <td>4513</td>\n",
       "      <td>0.161152</td>\n",
       "      <td>0.838848</td>\n",
       "    </tr>\n",
       "    <tr>\n",
       "      <th>4</th>\n",
       "      <td>(100, 125]</td>\n",
       "      <td>3</td>\n",
       "      <td>2</td>\n",
       "      <td>0.600000</td>\n",
       "      <td>0.400000</td>\n",
       "    </tr>\n",
       "  </tbody>\n",
       "</table>\n",
       "</div>"
      ],
      "text/plain": [
       "          Bin  Yes Count  No Count  No Show Proportion  Show Proportion\n",
       "0    (-1, 25]       8818     29781            0.228452         0.771548\n",
       "1    (25, 50]       7774     28730            0.212963         0.787037\n",
       "2    (50, 75]       4857     25174            0.161733         0.838267\n",
       "3   (75, 100]        867      4513            0.161152         0.838848\n",
       "4  (100, 125]          3         2            0.600000         0.400000"
      ]
     },
     "execution_count": 10,
     "metadata": {},
     "output_type": "execute_result"
    }
   ],
   "source": [
    "# Apply 'merge' Function To 'Age' And 'NoShow'\n",
    "Age = merge('Age','NoShow')\n",
    "Age = Age.drop(columns='Proportion')\n",
    "\n",
    "# Bin Age's Into Groups\n",
    "bins = [-1,25,50,75,100,125]\n",
    "Age['Bin'] = pd.cut(Age['Age'], bins)\n",
    "Age = Age.drop(['Age'],axis=1).groupby('Bin')['Yes Count','No Count'].sum().reset_index(drop=False)\n",
    "\n",
    "# Columns Of No Show & Show Proportions\n",
    "Age['No Show Proportion'] = Age['Yes Count']/(Age['Yes Count']+Age['No Count'])\n",
    "Age['Show Proportion'] = Age['No Count']/(Age['Yes Count']+Age['No Count'])\n",
    "Age.head()"
   ]
  },
  {
   "cell_type": "code",
   "execution_count": 11,
   "metadata": {},
   "outputs": [
    {
     "data": {
      "image/png": "[encoded data removed]",
      "text/plain": [
       "<Figure size 504x360 with 1 Axes>"
      ]
     },
     "metadata": {},
     "output_type": "display_data"
    }
   ],
   "source": [
    "# Bar Graph Comparing Now Show/Show Cases by Age Group\n",
    "sns.set()\n",
    "Age.plot(x= \"Bin\", y=[\"No Show Proportion\", \"Show Proportion\"], kind=\"bar\", figsize = (7,5), title = 'No Show/Show by Age Group')\n",
    "plt.ylabel('Count of No-Shows by Age');\n",
    "plt.xticks(rotation=0, fontsize = 9);\n",
    "plt.xlabel('Age Group')\n",
    "plt.ylabel('Proportion');\n",
    "plt.legend(prop={'size': 8});"
   ]
  },
  {
   "cell_type": "markdown",
   "metadata": {},
   "source": [
    "#### Does the amount of time a patient has to wait for their appointment effect whether they're likely to miss it? ####\n",
    "Next, an analysis of 'Wait Days' and the proportion of 'No Shows' is made. A proportion was used to help normalize the data to account for the different amount of samples for each day. The graph becomes highly variable after day 20 resulting from a lack of statistically significant number of samples. The data was filtered for all days less than 30 days and plotted. It's evident from this analysis that the percent of missed appointments increase over 15% from a 0 day wait period to 20 day wait period."
   ]
  },
  {
   "cell_type": "code",
   "execution_count": 12,
   "metadata": {
    "scrolled": true
   },
   "outputs": [
    {
     "data": {
      "text/html": [
       "<div>\n",
       "<style scoped>\n",
       "    .dataframe tbody tr th:only-of-type {\n",
       "        vertical-align: middle;\n",
       "    }\n",
       "\n",
       "    .dataframe tbody tr th {\n",
       "        vertical-align: top;\n",
       "    }\n",
       "\n",
       "    .dataframe thead th {\n",
       "        text-align: right;\n",
       "    }\n",
       "</style>\n",
       "<table border=\"1\" class=\"dataframe\">\n",
       "  <thead>\n",
       "    <tr style=\"text-align: right;\">\n",
       "      <th></th>\n",
       "      <th>WaitDays</th>\n",
       "      <th>No Count</th>\n",
       "      <th>Yes Count</th>\n",
       "      <th>Proportion</th>\n",
       "    </tr>\n",
       "  </thead>\n",
       "  <tbody>\n",
       "    <tr>\n",
       "      <th>0</th>\n",
       "      <td>1</td>\n",
       "      <td>5123</td>\n",
       "      <td>1602</td>\n",
       "      <td>0.238216</td>\n",
       "    </tr>\n",
       "    <tr>\n",
       "      <th>1</th>\n",
       "      <td>2</td>\n",
       "      <td>2093</td>\n",
       "      <td>644</td>\n",
       "      <td>0.235294</td>\n",
       "    </tr>\n",
       "    <tr>\n",
       "      <th>2</th>\n",
       "      <td>3</td>\n",
       "      <td>4059</td>\n",
       "      <td>1231</td>\n",
       "      <td>0.232703</td>\n",
       "    </tr>\n",
       "    <tr>\n",
       "      <th>3</th>\n",
       "      <td>4</td>\n",
       "      <td>2405</td>\n",
       "      <td>872</td>\n",
       "      <td>0.266097</td>\n",
       "    </tr>\n",
       "    <tr>\n",
       "      <th>4</th>\n",
       "      <td>5</td>\n",
       "      <td>3036</td>\n",
       "      <td>1001</td>\n",
       "      <td>0.247956</td>\n",
       "    </tr>\n",
       "  </tbody>\n",
       "</table>\n",
       "</div>"
      ],
      "text/plain": [
       "   WaitDays  No Count  Yes Count  Proportion\n",
       "0         1      5123       1602    0.238216\n",
       "1         2      2093        644    0.235294\n",
       "2         3      4059       1231    0.232703\n",
       "3         4      2405        872    0.266097\n",
       "4         5      3036       1001    0.247956"
      ]
     },
     "execution_count": 12,
     "metadata": {},
     "output_type": "execute_result"
    }
   ],
   "source": [
    "# No Show/Show Count Based on Number of Wait Days i.e. Days From Schedule Day To Appointment Day\n",
    "WaitDays = merge('WaitDays','NoShow')\n",
    "WaitDays = WaitDays.query('WaitDays > 0').reset_index(drop=True)\n",
    "WaitDays.head()"
   ]
  },
  {
   "cell_type": "code",
   "execution_count": 13,
   "metadata": {},
   "outputs": [
    {
     "data": {
      "image/png": "[encoded data removed]",
      "text/plain": [
       "<Figure size 504x360 with 1 Axes>"
      ]
     },
     "metadata": {},
     "output_type": "display_data"
    }
   ],
   "source": [
    "#Parameters For Plotting\n",
    "WaitDays_filter = WaitDays.query('WaitDays < 30')\n",
    "WaitDays_x = WaitDays_filter['WaitDays']\n",
    "WaitDays_y = WaitDays_filter['Proportion']\n",
    "\n",
    "# Line Plot of Wait Days vs No Show Count\n",
    "sns.set(rc={'figure.figsize':(7,5)})\n",
    "sns.lineplot(x = WaitDays_x, y = WaitDays_y, color = 'red', alpha = 0.75).set_title('Wait Days vs Proportion of No-Shows', fontsize = 12);\n",
    "plt.ylabel('Proportion of No-Shows');\n",
    "plt.xlabel('Wait Days');"
   ]
  },
  {
   "cell_type": "markdown",
   "metadata": {},
   "source": [
    "#### Will sending an SMS notification of a patients scheduled appointment help hospitals reduce the percent of no show cases?####\n",
    "The next analysis shows the relationship between SMS (whether the patient was notified of their appointment) to the proportion of no-show cases. It'd be reasonable to hypothesize a positive correlation between these two factors, however the data suggest's otherwise. Eventhough patients were notified of their appointments, they still missed their appointments. 16.7% of patients who were not notified missed their appointment compared to 27.5% of patients that missed their appointments when notified by SMS."
   ]
  },
  {
   "cell_type": "code",
   "execution_count": 14,
   "metadata": {},
   "outputs": [
    {
     "data": {
      "text/html": [
       "<div>\n",
       "<style scoped>\n",
       "    .dataframe tbody tr th:only-of-type {\n",
       "        vertical-align: middle;\n",
       "    }\n",
       "\n",
       "    .dataframe tbody tr th {\n",
       "        vertical-align: top;\n",
       "    }\n",
       "\n",
       "    .dataframe thead th {\n",
       "        text-align: right;\n",
       "    }\n",
       "</style>\n",
       "<table border=\"1\" class=\"dataframe\">\n",
       "  <thead>\n",
       "    <tr style=\"text-align: right;\">\n",
       "      <th></th>\n",
       "      <th>SMS_received</th>\n",
       "      <th>No Count</th>\n",
       "      <th>Yes Count</th>\n",
       "      <th>Proportion</th>\n",
       "    </tr>\n",
       "  </thead>\n",
       "  <tbody>\n",
       "    <tr>\n",
       "      <th>0</th>\n",
       "      <td>0</td>\n",
       "      <td>62509</td>\n",
       "      <td>12535</td>\n",
       "      <td>0.167035</td>\n",
       "    </tr>\n",
       "    <tr>\n",
       "      <th>1</th>\n",
       "      <td>1</td>\n",
       "      <td>25698</td>\n",
       "      <td>9784</td>\n",
       "      <td>0.275745</td>\n",
       "    </tr>\n",
       "  </tbody>\n",
       "</table>\n",
       "</div>"
      ],
      "text/plain": [
       "   SMS_received  No Count  Yes Count  Proportion\n",
       "0             0     62509      12535    0.167035\n",
       "1             1     25698       9784    0.275745"
      ]
     },
     "execution_count": 14,
     "metadata": {},
     "output_type": "execute_result"
    }
   ],
   "source": [
    "# No Show/Show Count Based On SMS Notification\n",
    "SMS = merge('SMS_received','NoShow')\n",
    "SMS.head()"
   ]
  },
  {
   "cell_type": "code",
   "execution_count": 15,
   "metadata": {
    "scrolled": true
   },
   "outputs": [
    {
     "data": {
      "image/png": "[encoded data removed]",
      "text/plain": [
       "<Figure size 504x360 with 1 Axes>"
      ]
     },
     "metadata": {},
     "output_type": "display_data"
    }
   ],
   "source": [
    "#Parameters for plotting\n",
    "SMS_x = SMS['SMS_received']\n",
    "SMS_y = SMS['Proportion']\n",
    "\n",
    "#Bar Plot Comparing Percentage of Patients That Missed Appointment Based On Them Receiving Notification via SMS\n",
    "sns.barplot(x = SMS_x, y = SMS_y, palette=[\"C3\", \"C0\"]).set_title('SMS Received vs Patients Who Missed Appointment');\n",
    "plt.xticks(np.arange(2), ('No','Yes'));\n",
    "plt.xlabel('SMS Received');\n",
    "plt.ylabel('Proportion of Patients That Missed Appointment');"
   ]
  },
  {
   "cell_type": "markdown",
   "metadata": {},
   "source": [
    "#### Which neighborhoods have the highest percentage of no-show cases?####\n",
    "Below shows which Neighborhoods have the highest count of missed appointments. On Average, 19.8% of appointments are a no-show for hospitals in Brazil, with hospitals in Neighborhoods such as Santos Dumont, Santa Clara, Santa Cecilia, Itarare all having no show rates of over 25%. The plot shows the top 25% of neighborhoods with the highest rate of no-show cases."
   ]
  },
  {
   "cell_type": "code",
   "execution_count": 16,
   "metadata": {},
   "outputs": [
    {
     "data": {
      "text/html": [
       "<div>\n",
       "<style scoped>\n",
       "    .dataframe tbody tr th:only-of-type {\n",
       "        vertical-align: middle;\n",
       "    }\n",
       "\n",
       "    .dataframe tbody tr th {\n",
       "        vertical-align: top;\n",
       "    }\n",
       "\n",
       "    .dataframe thead th {\n",
       "        text-align: right;\n",
       "    }\n",
       "</style>\n",
       "<table border=\"1\" class=\"dataframe\">\n",
       "  <thead>\n",
       "    <tr style=\"text-align: right;\">\n",
       "      <th></th>\n",
       "      <th>No Count</th>\n",
       "      <th>Yes Count</th>\n",
       "      <th>Proportion</th>\n",
       "    </tr>\n",
       "  </thead>\n",
       "  <tbody>\n",
       "    <tr>\n",
       "      <th>count</th>\n",
       "      <td>79.000000</td>\n",
       "      <td>79.000000</td>\n",
       "      <td>79.000000</td>\n",
       "    </tr>\n",
       "    <tr>\n",
       "      <th>mean</th>\n",
       "      <td>1116.531646</td>\n",
       "      <td>282.493671</td>\n",
       "      <td>0.197970</td>\n",
       "    </tr>\n",
       "    <tr>\n",
       "      <th>std</th>\n",
       "      <td>1096.101084</td>\n",
       "      <td>277.991324</td>\n",
       "      <td>0.031694</td>\n",
       "    </tr>\n",
       "    <tr>\n",
       "      <th>min</th>\n",
       "      <td>7.000000</td>\n",
       "      <td>1.000000</td>\n",
       "      <td>0.085714</td>\n",
       "    </tr>\n",
       "    <tr>\n",
       "      <th>25%</th>\n",
       "      <td>328.500000</td>\n",
       "      <td>81.500000</td>\n",
       "      <td>0.180276</td>\n",
       "    </tr>\n",
       "    <tr>\n",
       "      <th>50%</th>\n",
       "      <td>710.000000</td>\n",
       "      <td>190.000000</td>\n",
       "      <td>0.197588</td>\n",
       "    </tr>\n",
       "    <tr>\n",
       "      <th>75%</th>\n",
       "      <td>1648.000000</td>\n",
       "      <td>428.500000</td>\n",
       "      <td>0.216972</td>\n",
       "    </tr>\n",
       "    <tr>\n",
       "      <th>max</th>\n",
       "      <td>6252.000000</td>\n",
       "      <td>1465.000000</td>\n",
       "      <td>0.289185</td>\n",
       "    </tr>\n",
       "  </tbody>\n",
       "</table>\n",
       "</div>"
      ],
      "text/plain": [
       "          No Count    Yes Count  Proportion\n",
       "count    79.000000    79.000000   79.000000\n",
       "mean   1116.531646   282.493671    0.197970\n",
       "std    1096.101084   277.991324    0.031694\n",
       "min       7.000000     1.000000    0.085714\n",
       "25%     328.500000    81.500000    0.180276\n",
       "50%     710.000000   190.000000    0.197588\n",
       "75%    1648.000000   428.500000    0.216972\n",
       "max    6252.000000  1465.000000    0.289185"
      ]
     },
     "execution_count": 16,
     "metadata": {},
     "output_type": "execute_result"
    }
   ],
   "source": [
    "# New DataFrame Showing Show And No Show Count by Neighborhood\n",
    "Neighborhood = merge('Neighbourhood','NoShow')\n",
    "Neighborhood.head()\n",
    "\n",
    "# View Statistics\n",
    "Neighborhood.describe()"
   ]
  },
  {
   "cell_type": "code",
   "execution_count": 17,
   "metadata": {
    "scrolled": true
   },
   "outputs": [
    {
     "data": {
      "image/png": "[encoded data removed]",
      "text/plain": [
       "<Figure size 504x252 with 1 Axes>"
      ]
     },
     "metadata": {},
     "output_type": "display_data"
    }
   ],
   "source": [
    "# Look At Neighborhood Hospitals With Top 25% Missed Appointment Rate\n",
    "High_noshow = Neighborhood.query('Proportion > 0.216972')\n",
    "\n",
    "# Parameters For Plotting\n",
    "neighbourhood_x = High_noshow['Neighbourhood']\n",
    "neighbourhood_y = High_noshow['Proportion']\n",
    "\n",
    "# Bar Plot of Neighborhood Hospitals With Top 25% of No Shows\n",
    "plt.figure(figsize=(7,3.5))\n",
    "sns.barplot(x = neighbourhood_x, y = neighbourhood_y, color = 'blue', alpha = 0.75).set_title('Neighborhoods With Highest Percent of No Shows', fontsize = 12);\n",
    "plt.xticks(rotation=75, fontsize = 9);\n",
    "plt.ylabel('Proportion of No Shows by Neighborhood', fontsize = 11);\n",
    "\n",
    "plt.show()"
   ]
  },
  {
   "cell_type": "markdown",
   "metadata": {},
   "source": [
    "#### Why do these Neighborhoods have the highest percentage of no show cases? ####\n",
    "The final analysis attempts to determine what factor could cause these specific Neighborhood hospitals to have such a high rate of no-show cases. One possible explanation could be socioeconomic conditions of these Neighborhoods. The top 20 neighborhoods with the highest proportion of Brazil's welfare program (Bolsa Familia) is listed below. This list is compared to the list of the top 20 neighborhoods with the highest no-show cases. Of the top 20 neighborhoods with the highest proportion of welfare recipients, 8 of those neighborhoods also experience the highest case of no-show cases. Further analysis from regression plotting shows no correlation between these 2 factors."
   ]
  },
  {
   "cell_type": "code",
   "execution_count": 18,
   "metadata": {},
   "outputs": [
    {
     "data": {
      "text/html": [
       "<div>\n",
       "<style scoped>\n",
       "    .dataframe tbody tr th:only-of-type {\n",
       "        vertical-align: middle;\n",
       "    }\n",
       "\n",
       "    .dataframe tbody tr th {\n",
       "        vertical-align: top;\n",
       "    }\n",
       "\n",
       "    .dataframe thead th {\n",
       "        text-align: right;\n",
       "    }\n",
       "</style>\n",
       "<table border=\"1\" class=\"dataframe\">\n",
       "  <thead>\n",
       "    <tr style=\"text-align: right;\">\n",
       "      <th></th>\n",
       "      <th>Neighbourhood</th>\n",
       "      <th>No Count</th>\n",
       "      <th>Yes Count</th>\n",
       "      <th>Proportion</th>\n",
       "    </tr>\n",
       "  </thead>\n",
       "  <tbody>\n",
       "    <tr>\n",
       "      <th>0</th>\n",
       "      <td>SÃO BENEDITO</td>\n",
       "      <td>1035</td>\n",
       "      <td>404</td>\n",
       "      <td>0.280751</td>\n",
       "    </tr>\n",
       "    <tr>\n",
       "      <th>1</th>\n",
       "      <td>DO MOSCOSO</td>\n",
       "      <td>302</td>\n",
       "      <td>111</td>\n",
       "      <td>0.268765</td>\n",
       "    </tr>\n",
       "    <tr>\n",
       "      <th>2</th>\n",
       "      <td>ILHA DO PRÍNCIPE</td>\n",
       "      <td>1687</td>\n",
       "      <td>579</td>\n",
       "      <td>0.255516</td>\n",
       "    </tr>\n",
       "    <tr>\n",
       "      <th>3</th>\n",
       "      <td>PIEDADE</td>\n",
       "      <td>337</td>\n",
       "      <td>115</td>\n",
       "      <td>0.254425</td>\n",
       "    </tr>\n",
       "    <tr>\n",
       "      <th>4</th>\n",
       "      <td>SANTOS REIS</td>\n",
       "      <td>427</td>\n",
       "      <td>120</td>\n",
       "      <td>0.219378</td>\n",
       "    </tr>\n",
       "  </tbody>\n",
       "</table>\n",
       "</div>"
      ],
      "text/plain": [
       "      Neighbourhood  No Count  Yes Count  Proportion\n",
       "0      SÃO BENEDITO      1035        404    0.280751\n",
       "1        DO MOSCOSO       302        111    0.268765\n",
       "2  ILHA DO PRÍNCIPE      1687        579    0.255516\n",
       "3           PIEDADE       337        115    0.254425\n",
       "4       SANTOS REIS       427        120    0.219378"
      ]
     },
     "execution_count": 18,
     "metadata": {},
     "output_type": "execute_result"
    }
   ],
   "source": [
    "# Analyze Relationship Between Scholarship Recipient (Bolsa Familia) And No Show Rate\n",
    "df['Scholarship'] = df['Scholarship'].astype(str)\n",
    "S = merge(\"Neighbourhood\",\"Scholarship\")\n",
    "\n",
    "# Top 20 Neighborhoods With Highest Proportion of Welfare Recipient\n",
    "S_20 = S.sort_values(by='Proportion', ascending = False).reset_index(drop=True).head(20)\n",
    "S_20.head()"
   ]
  },
  {
   "cell_type": "code",
   "execution_count": 19,
   "metadata": {},
   "outputs": [
    {
     "data": {
      "text/plain": [
       "(8, 4)"
      ]
     },
     "execution_count": 19,
     "metadata": {},
     "output_type": "execute_result"
    }
   ],
   "source": [
    "# Compare Neighborhoods That Have Highest Proportion of Welfare Recipient With Highest Proportion of No Shows\n",
    "neigh = High_noshow.sort_values(by = 'Proportion',ascending = False)\n",
    "neigh = neigh.head(20)\n",
    "N_filter = neigh['Neighbourhood']\n",
    "\n",
    "# Number of Neighbhorhoods With Highest Rate of No Shows AND Highest Rate of Welfare Recipient\n",
    "neigh_schol = S_20[S_20['Neighbourhood'].isin(N_filter)]\n",
    "neigh_schol.shape"
   ]
  },
  {
   "cell_type": "code",
   "execution_count": 21,
   "metadata": {},
   "outputs": [
    {
     "data": {
      "image/png": "[encoded data removed]",
      "text/plain": [
       "<Figure size 504x360 with 1 Axes>"
      ]
     },
     "metadata": {},
     "output_type": "display_data"
    }
   ],
   "source": [
    "# Welfare Recipient Proportion By Neighborhood\n",
    "Proportion_Welfare = S\n",
    "Proportion_Welfare = Proportion_Welfare.rename(columns={'Proportion':'Welfare Proportion'})\n",
    "\n",
    "# No Show Proportion By Neighborhood\n",
    "Proportion_Neighborhood = Neighborhood\n",
    "Proportion_Neighborhood = Proportion_Neighborhood.rename(columns={'Proportion':'Neighborhood Proportion'})\n",
    "\n",
    "# Merge Above DataFrames\n",
    "Proportion_merge = pd.merge(Proportion_Welfare,Proportion_Neighborhood, on = 'Neighbourhood')\n",
    "\n",
    "# Parameters For Plotting\n",
    "corr_x = Proportion_merge['Welfare Proportion']\n",
    "corr_y = Proportion_merge['Neighborhood Proportion']\n",
    "\n",
    "# Regression Plot\n",
    "sns.regplot(x = corr_x, y = corr_y, color ='green',marker = '+').set_title('Welfare Proportion vs Neighborhood Proportion')\n",
    "sns.set_style('ticks')\n",
    "plt.xlabel('Welfare Proportion')\n",
    "plt.ylabel('No Show Proportion by Neighborhood');"
   ]
  },
  {
   "cell_type": "markdown",
   "metadata": {},
   "source": [
    "<a id='Conclusion'></a>\n",
    "### Conclusion ###"
   ]
  },
  {
   "cell_type": "markdown",
   "metadata": {},
   "source": [
    "From the analysis of this dataset, some conclusions can be made regarding what factors contribute to higher cases of no-show medical appointments in Brazil. Due to the distribution of values for certain factors, the analysis relies on proportion/percent of no show cases rather than count. \n",
    "\n",
    "First, there's no true correlation between certain age groups and the propensity to miss an appointment. Although the age group of 100-125 yr old shows a higher percent of no show cases, its important to note their are only 5 total data points in the bin.\n",
    "\n",
    "A relationship can be drawn regarding the amount of days patients must wait to their appointment and the proportion of no shows. There is a positive correlation for the first 20 days i.e. the more days a patient has to wait for an appointment, the higher chance there is of them missing the scheduled appointment. After day 20, the graph becomes volatile so no clear conclusion can be made due to lack of data.\n",
    "\n",
    "The relationship between SMS (whether the patient was notified of their appointment) to the proportion of no-show cases was also analyzed. Eventhough patients were notified of their appointments, they still missed their appointments. 16.7% of patients who were not notified missed their appointment compared to 27.5% of patients that missed their appointments when notified by SMS. Although SMS notifications don't help prevent no-shows, it's still good practice for hospitals to send patients reminders.\n",
    "\n",
    "On Average, 19.8% of appointments are a no-show for hospitals in Brazil, with hospitals in Neighborhoods such as Santos Dumont, Santa Clara, Santa Cecilia, Itarare all having no show rates of over 25%. The top 20 neighborhoods with the highest proportion of Brazil's welfare program (Bolsa Familia) is compared to the list of the top 20 neighborhoods with the highest no-show cases. Of the top 20 neighborhoods with the highest proportion of welfare recipients, 8 of those neighborhoods also experience the highest case of no-show cases. Further analysis of the full datasets, show a minimal/slightly positive correlation between these 2 factors. \n",
    "\n",
    "#### Credit Sources ####\n",
    "1. StackOverflow"
   ]
  }
 ],
 "metadata": {
  "kernelspec": {
   "display_name": "Python 3",
   "language": "python",
   "name": "python3"
  },
  "language_info": {
   "codemirror_mode": {
    "name": "ipython",
    "version": 3
   },
   "file_extension": ".py",
   "mimetype": "text/x-python",
   "name": "python",
   "nbconvert_exporter": "python",
   "pygments_lexer": "ipython3",
   "version": "3.7.1"
  }
 },
 "nbformat": 4,
 "nbformat_minor": 2
}
